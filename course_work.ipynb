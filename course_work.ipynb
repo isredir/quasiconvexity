{
  "nbformat": 4,
  "nbformat_minor": 0,
  "metadata": {
    "colab": {
      "provenance": []
    },
    "kernelspec": {
      "name": "python3",
      "display_name": "Python 3"
    },
    "language_info": {
      "name": "python"
    }
  },
  "cells": [
    {
      "cell_type": "markdown",
      "source": [
        "#Курсовой проект \"Автоматический вывод свойств функции по ее выражению.\"\n",
        "\n",
        "Сизов Михаил. ПМИ ФКН 2 курс."
      ],
      "metadata": {
        "id": "72vCsJIWQPLf"
      }
    },
    {
      "cell_type": "markdown",
      "source": [
        "##Задача проекта.\n",
        "\n",
        "Написание программы, определяющей по выражению функции от одной переменной, является ли она квазивыпуклой, квазивогнутой, строго квазивыпуклой или строго квазивогнутой на данном интервале и использование этого свойства в задаче глобальной оптимизации."
      ],
      "metadata": {
        "id": "ovQNfYDoQio6"
      }
    },
    {
      "cell_type": "markdown",
      "source": [
        "##Определения и теория.\n",
        "\n",
        "В данном курсовом проекте используются следующие определения:\n",
        "\n",
        "**Экстремумы:**\n",
        "\n",
        "- Глобальный минимум функции $f(x)$ на отрезке $[a, b]$, обозначаемый $f^{min}$ определим, как $\\inf\\{f(x) \\bigg| x \\in [a, b]\\}$. Точка глобального минимума $x^{min}$ - такая точка, что $f(x^{min}) = f^{min}$.\n",
        "\n",
        "- Глобальный максимум функции $f(x)$ на отрезке $[a, b]$, обозначаемый $f^{max}$ определим, как $\\sup\\{f(x) \\bigg| x \\in [a, b]\\}$. Точка глобального максмума $x^{max}$ - такая точка, что $f(x^{max}) = f^{max}$.\n",
        "\n",
        "- Точка локального минимума функции $f(x)$ на отрезке $[a, b]$ - такая точка $x^{locmin}$, что существует такая $\\delta > 0$, что $f(x^{locmin}) < f(x) \\forall x \\in [x^{locmin} - \\delta, x^{locmin} + \\delta]$. Значение в точке $x^{locmin}$ называется локальным минимумом.\n",
        "\n",
        "- Точка локального максимума функции $f(x)$ на отрезке $[a, b]$ - такая точка $x^{locmax}$, что существует такая $\\delta > 0$, что $f(x^{locmax}) > f(x) \\forall x \\in [x^{locmax} - \\delta, x^{locmax} + \\delta]$. Значение в точке $x^{locmax}$ называется локальным максимумом.\n",
        "\n",
        "**Монотонность:**\n",
        "\n",
        "- Функция $f(x)$ называется **монотонно возрастающей на отрезке $[a, b]$**, если $\\forall x_1, x_2 \\in [a, b] x_1 < x_2$ влечет $f(x_1) < f(x_2)$.\n",
        "\n",
        "- Функция $f(x)$ называется **монотонно убывающей на отрезке $[a, b]$**, если $\\forall x_1, x_2 \\in [a, b] x_1 > x_2$ влечет $f(x_1) > f(x_2)$.\n",
        "\n",
        "- Функция $f(x)$ называется **монотонно невозрастающей на отрезке $[a, b]$**, если $\\forall x_1, x_2 \\in [a, b] x_1 \\geq x_2$ влечет $f(x_1) \\geq f(x_2)$.\n",
        "\n",
        "- Функция $f(x)$ называется **монотонно неубывающей на отрезке $[a, b]$**, если $\\forall x_1, x_2 \\in [a, b] x_1 \\leq x_2$ влечет $f(x_1) \\leq f(x_2)$.\n",
        "\n",
        "- Функция $f(x)$ называется **строго монотонной на отрезке $[a, b]$**, если она является монотонно возрастающей или убывающей на этом отрезке.\n",
        "\n",
        "- Функция $f(x)$ называется **нестрого монотонной на отрезке $[a, b]$**, если она является монотонно невозрастающей или неубывающей на этом отрезке.\n",
        "\n",
        "**Выпуклость:**\n",
        "\n",
        "- Функция $f(x)$ называется **выпуклой на отрезке $[a, b]$**, если $$\\forall x_1, x_2 \\in [a, b]; \\forall \\lambda \\in [0, 1]: f(\\lambda x_1 + (1 - λ)x_2) ≤ \\lambda f(x_1) + (1 - \\lambda)f(x_2)$$\n",
        "\n",
        "- Функция $f(x)$ называется **вогнутой (невыпуклой) на отрезке $[a, b]$**, если $-f(x)$ - выпуклая на отрезке $[a, b]$\n",
        "\n",
        "**Квазивыпуклость:**\n",
        "\n",
        "-   Функция $f(x)$ называется **квазивыпуклой на отрезке $[a, b]$**, если множество $\\{x \\in [a, b] \\bigg| f(x) < \\alpha\\}$ - выпуклое $\\forall \\alpha \\in \\mathbb{R}.$\n",
        "-   Функция $f(x)$ называется **квазивыпуклой на отрезке $[a, b]$**, если $$\\forall x, y \\in [a, b]; \\forall \\theta \\in [0, 1]: f(x) \\geq f(y) \\Rightarrow f(\\theta x + (1 - \\theta)y) \\leq f(x)$$\n",
        "-  Функция $f(x)$ называется **строго квазивыпуклой на отрезке $[a, b]$**, если $$\\forall x, y \\in [a, b]; \\forall \\theta \\in [0, 1]: f(x) > f(y) \\Rightarrow f(\\theta x + (1 - \\theta)y) < f(x)$$\n",
        "-  Функция $f(x)$ называется **(строго) квазивогнутой на отрезке $[a, b]$**, если $-f(x)$ - (строго) квазивыпуклая на отрезке $[a, b]$.\n",
        "\n"
      ],
      "metadata": {
        "id": "VSsyibQ_Q70K"
      }
    },
    {
      "cell_type": "markdown",
      "source": [
        "##Задача глобальной оптимизации\n",
        "\n",
        "Задача глобальной оптимизации состоит в нахождении верхних и нижних границ значений функции. Эта задача имеет множество практических применений, например в методе ветвей и границ. В частности, цель задачи - найти точки глобальных минимума и максимума функции на отрезке. Эти точки можно найти, зная нули производной фунции, однако это часто бывает сложно или невозможно для недифференцируемых функций. Поэтому к нам на помощь приходят выпуклые функции. Они обладают следующими полезными свойствами:\n",
        "\n",
        "- Максимум выпуклой функции $f(x)$ на отрезке $[a, b]$ равен $\\operatorname{max}(f(a), f(b))$.\n",
        "\n",
        "- Минимум выпуклой функции $f(x)$ на отрезке $[a, b]$ равен $\\operatorname{min}(f(a), f(b))$.\n",
        "\n",
        "- Локальный минимум выпуклой функции $f(x)$ является глобальным.\n",
        "\n",
        "- Локальный максимум вогнутй функции $f(x)$ является глобальным.\n",
        "\n",
        "- Если $f(x)$ - выпуклая на отрезке $[a, b]$, то $$\\operatorname{min}\\limits_{x\\in [a, b]} f(x) \\geq \\dfrac{f'(b)f(a) - f'(a)f(b)}{f'(b) - f'(a)} + f'(a)f'(b)\\dfrac{b-a}{f'(b) - f'(a)}$$\n",
        "\n",
        "- Если $f(x)$ - вогнутая на отрезке $[a, b]$, то $$\\operatorname{max}\\limits_{x\\in [a, b]} f(x) \\leq \\dfrac{f'(b)f(a) - f'(a)f(b)}{f'(b) - f'(a)} + f'(a)f'(b)\\dfrac{b-a}{f'(b) - f'(a)}$$\n",
        "\n",
        "Таким образом, например для выпуклой функции максимум можно найти за $\\mathcal{O}(1)$, также как и нижнюю границу минимума, а точное значение минимума можно вычислить, используя эффективный алгоритм поиска локального минимума.\n",
        "\n",
        "Однако далеко не все функции обладают свойством выпуклости или вогнутости, поэтому нам могут быть полезны квазивыпуклые и квазивогнутые функции. Это более широкий класс функций, которые обладают вышеперечисленными полезными свойствами. В этой работе будет произведено исследование квазивыпуклых функций, и будет написана программа, которая автоматически проверяет, является ли функция квазивыпуклой по ее выражению."
      ],
      "metadata": {
        "id": "aqa_cf_rBuzH"
      }
    },
    {
      "cell_type": "markdown",
      "source": [
        "##Проверка квазивыпуклости по определению"
      ],
      "metadata": {
        "id": "pGsIGKB4x8IY"
      }
    },
    {
      "cell_type": "markdown",
      "source": [
        "Теперь напишем программу, которая определяет квазивыпуклость функции по определению. Будем пользоваться язвком программирования `python` и библиотекой `sympy` - удобным инструментом для работы с выражением функции. Будем пользоваться классом `sympy.expr` для выражения и классом `sympy.Interval` для интервала. Сразу можно заметить проблему. Все определения квазивыпуклости предполагают выполнение некоторых свойств для любых точек из промежутка. У нас нет возможности проитерироваться по всем точкам промежутка, поэтому приходится брать конечное число точек. Еще одной проблемой является то, что концы промежутка могут быть бесконечностями. В этом случае приходится смотреть ограниченный интервал. Имея все это, реализуем следующий несложный алгоритм, взять из отрезка $[a, b]$ некоторое количество точек, и проверить неравенство для некоторого количества точек $\\theta \\in [0, 1]$."
      ],
      "metadata": {
        "id": "M33Rv3HqaICm"
      }
    },
    {
      "cell_type": "code",
      "source": [
        "import sympy as sp\n",
        "import numpy as np"
      ],
      "metadata": {
        "id": "kmADGikMiaov"
      },
      "execution_count": 3,
      "outputs": []
    },
    {
      "cell_type": "code",
      "source": [
        "def is_quasiconvex_by_def(f: sp.core.expr, interval: sp.Interval=sp.Reals, strict=False):\n",
        "    \"\"\"\n",
        "        Input\n",
        "            f: sp.core.expr -- an expression of single-variable function\n",
        "            interval: sp.Interval -- an interval to check quasiconvexity on.\n",
        "            Default interval is all Real numbers\n",
        "            strict -- condition that shows should we check strict quasiconvexity\n",
        "            or not. Default False \n",
        "        Returns\n",
        "            True or False whether function is (strictly) quasiconvex on given \n",
        "            interval or not\n",
        "    \"\"\"\n",
        "    a = float(interval.args[0])\n",
        "    b = float(interval.args[1])\n",
        "    # setting limits at +-100 if we got an infinity\n",
        "    if interval.args[0] == -sp.oo:\n",
        "        a = -100\n",
        "    if interval.args[1] == sp.oo:\n",
        "        b = 100\n",
        "    x = sp.symbols('x')\n",
        "    res = True\n",
        "    # iterate over interval [a, b] with the step = 100\n",
        "    for x1 in np.linspace(a, b, 100):\n",
        "        for x2 in np.linspace(a, b, 100):\n",
        "            if x1 == x2:\n",
        "                continue\n",
        "            # check if f(x_1) >= f(x_2)\n",
        "            if strict:\n",
        "                if not (f.subs(x, x1) > f.subs(x, x2)):\n",
        "                    continue\n",
        "            else:\n",
        "                if not (f.subs(x, x1) >= f.subs(x, x2)):\n",
        "                    continue\n",
        "            # if previous condition is satisfied check the quasiconvexity inequality\n",
        "            for theta in np.linspace(0, 1, 10):\n",
        "                if strict:\n",
        "                    res = (f.subs(x, theta * x1 + (1 - theta) * x2) < f.subs(x, x1))\n",
        "                else:\n",
        "                    res = (f.subs(x, theta * x1 + (1 - theta) * x2) <= f.subs(x, x1))\n",
        "                if not res:\n",
        "                    return False\n",
        "    return res"
      ],
      "metadata": {
        "id": "t6Z3uBu-ifVv"
      },
      "execution_count": 4,
      "outputs": []
    },
    {
      "cell_type": "code",
      "source": [
        "x = sp.symbols('x')\n",
        "# check the correctness of algorythm on different examples\n",
        "assert(is_quasiconvex_by_def(x**2 + 3*x + 1, sp.Interval(-sp.oo, sp.oo)) == True)\n",
        "assert(is_quasiconvex_by_def(2*x + 1, sp.Interval(-sp.oo, sp.oo)) == True)\n",
        "assert(is_quasiconvex_by_def(x**3 + x + 1, sp.Interval(-sp.oo, sp.oo)) == True)\n",
        "assert(is_quasiconvex_by_def(sp.exp(x) + 2, sp.Interval(-sp.oo, sp.oo)) == True)\n",
        "assert(is_quasiconvex_by_def(x**2 + 1 / x, sp.Interval(1.0, sp.oo)) == True)\n",
        "assert(is_quasiconvex_by_def(4*x - 2, sp.Interval(-sp.oo, sp.oo)) == True)\n",
        "assert(is_quasiconvex_by_def(sp.log(x + 2), sp.Interval(-1.0, sp.oo)) == True)\n",
        "assert(is_quasiconvex_by_def(sp.Abs(x + 1) + sp.Abs(x - 1), sp.Interval(-sp.oo, sp.oo)) == True)\n",
        "assert(is_quasiconvex_by_def(x**2 + sp.sin(x), sp.Interval(-sp.oo, sp.oo)) == True)"
      ],
      "metadata": {
        "id": "Qvw-_4rFmstU"
      },
      "execution_count": 4,
      "outputs": []
    },
    {
      "cell_type": "markdown",
      "source": [
        "##Использование монотонности и выпуклости"
      ],
      "metadata": {
        "id": "VYG7PJESyFoZ"
      }
    },
    {
      "cell_type": "markdown",
      "source": [
        "Метод проверки по определению работает долго и неточно, так как мы выбираем точки дискретно. Также он проверяет ограниченное число точек при концах интервала, равных бесконечностям. Воспользуемся следующими свойствами:\n",
        "\n",
        "- Если функция $f(x)$ монотонна на промежутке $[a, b]$, то она является (строго) квазивыпуклой и квазивогнутой на промежутке $[a, b]$.\n",
        "\n",
        "- Если функция $f(x)$ выпуклая (вогнутая) на промежутке $[a, b]$, то она является строго квазивыпуклой (квазивогнутой) на промежутке $[a, b]$.\n",
        "\n",
        "Добавим в нашу функцию проверку на монотонность и выпуклость используя методы `sympy.is_increasing`, `sympy.is_decreasing` и `sympy.is_convex`."
      ],
      "metadata": {
        "id": "4qOmdagosPAU"
      }
    },
    {
      "cell_type": "code",
      "source": [
        "def is_quasiconvex(f: sp.core.expr, interval: sp.Interval=sp.Reals, strict=False):\n",
        "    \"\"\"\n",
        "        Input\n",
        "            f: sp.core.expr -- an expression of single-variable function\n",
        "            interval: sp.Interval -- an interval to check quasiconvexity on.\n",
        "            Default interval is all Real numbers\n",
        "            strict -- condition that shows should we check strict quasiconvexity\n",
        "            or not. Default False \n",
        "        Returns\n",
        "            True or False whether function is (strictly) quasiconvex on given \n",
        "            interval or not\n",
        "    \"\"\"\n",
        "    # check the monotonicity of a function\n",
        "    try:\n",
        "        if sp.is_increasing(f, interval) or sp.is_decreasing(f, interval):\n",
        "            return True\n",
        "    except Exception as e:\n",
        "        print(e)\n",
        "    # check the convexity of a function\n",
        "    try:\n",
        "        if sp.is_convex(f, x, domain=interval):\n",
        "            return True\n",
        "    except Exception as e:\n",
        "        print(e)\n",
        "    return is_quasiconvex_by_def(f, interval, strict)"
      ],
      "metadata": {
        "id": "2ltwpi1RuXPZ"
      },
      "execution_count": 5,
      "outputs": []
    },
    {
      "cell_type": "code",
      "source": [
        "x = sp.symbols('x')\n",
        "# check the correctness of algorythm on different examples\n",
        "assert(is_quasiconvex(x**2 + 3*x + 1, sp.Interval(-sp.oo, sp.oo)) == True)\n",
        "assert(is_quasiconvex(2*x + 1, sp.Interval(-sp.oo, sp.oo)) == True)\n",
        "assert(is_quasiconvex(x**3 + x + 1, sp.Interval(-sp.oo, sp.oo)) == True)\n",
        "assert(is_quasiconvex(sp.exp(x) + 2, sp.Interval(-sp.oo, sp.oo)) == True)\n",
        "assert(is_quasiconvex(x**2 + 1 / x, sp.Interval(1.0, sp.oo)) == True)\n",
        "assert(is_quasiconvex(4*x - 2, sp.Interval(-sp.oo, sp.oo)) == True)\n",
        "assert(is_quasiconvex(sp.log(x + 2), sp.Interval(-1.0, sp.oo)) == True)\n",
        "assert(is_quasiconvex(sp.Abs(x + 1) + sp.Abs(x - 1), sp.Interval(-sp.oo, sp.oo)) == True)\n",
        "assert(is_quasiconvex(x**2 + sp.sin(x), sp.Interval(-sp.oo, sp.oo)) == True)"
      ],
      "metadata": {
        "colab": {
          "base_uri": "https://localhost:8080/"
        },
        "id": "-IdtYGoYurF9",
        "outputId": "051626c6-5a00-406c-9305-3cfbf1661b5d"
      },
      "execution_count": 6,
      "outputs": [
        {
          "output_type": "stream",
          "name": "stdout",
          "text": [
            "\n",
            "Can't calculate derivative wrt -1.\n",
            "\n",
            "The inequality, Derivative(x, x)*Derivative(sign(x - 1), x) +\n",
            "Derivative(x, x)*Derivative(sign(x + 1), x) + ((x + 1)*Derivative(x,\n",
            "(x, 2)) + Derivative(0, x)**2 + Derivative(x, x)**2)*sign(x + 1)/(x +\n",
            "1) - sign(x + 1)*Derivative(x, x)/(x + 1) + ((x - 1)*Derivative(x, (x,\n",
            "2)) + Derivative(0, x)**2 + Derivative(x, x)**2)*sign(x - 1)/(x - 1) -\n",
            "sign(x - 1)*Derivative(x, x)/(x - 1) < 0, cannot be solved using\n",
            "solve_univariate_inequality.\n"
          ]
        }
      ]
    },
    {
      "cell_type": "markdown",
      "source": [
        "Почти все функции попали под определения монотонных или выпуклых, и для них программа отработала за долю секунды."
      ],
      "metadata": {
        "id": "RIP8OMKrwa4A"
      }
    },
    {
      "cell_type": "markdown",
      "source": [
        "##Использование операций, сохраняющих квазивыпуклость\n",
        "\n",
        "Проведем еще одну оптимизацию, будем пользоваться следующими свойствами:\n",
        "\n",
        "- Если $f(x)$ - (строго) квазивыпуклая на отрезке $[a, b]$, то $\\forall \\alpha > 0$: $\\alpha f(x)$ - тоже (строго) квазивыпуклая на отрезке $[a, b]$. \n",
        "- Если $f(x)$ - (строго) квазивогнутая на отрезке $[a, b]$, то $\\forall \\alpha > 0$: $\\alpha f(x)$ - тоже (строго) квазивогнутая на отрезке $[a, b]$. \n",
        "- Если $f(x)$, $g(x)$ - (строго) квазивыпуклые на отрезке $[a, b]$, то $\\operatorname{max}(f(x), g(x))$ - тоже (строго) квазивыпуклая на отрезке $[a, b]$. \n",
        "- Если $f(x)$, $g(x)$ - (строго) квазивогнутые на отрезке $[a, b]$, то $\\operatorname{min}(f(x), g(x))$ - тоже (строго) квазивогнутая на отрезке $[a, b]$.\n",
        "\n",
        "Первые два свойства проверяются просто, `sympy` позволяет разбить произведение функций на компоненты, и проверить, есть ли среди них положительное число и сократить на него. Чтобы проверить третье и четвертое свойства будем определять, является ли функция минимумом или максимумом и пробегаясь по ее компонентам, будем рекурсивно вызывать нашу функцию."
      ],
      "metadata": {
        "id": "mf-LZa41yRLm"
      }
    },
    {
      "cell_type": "code",
      "source": [
        "def is_quasiconvex_by_preserving_ops(f: sp.core.expr, interval: sp.Interval=sp.Reals, strict=False):\n",
        "    \"\"\"\n",
        "        Input\n",
        "            f: sp.core.expr -- an expression of single-variable function\n",
        "            interval: sp.Interval -- an interval to check quasiconvexity on.\n",
        "            Default interval is all Real numbers\n",
        "            strict -- condition that shows should we check strict quasiconvexity\n",
        "            or not. Default False \n",
        "        Returns\n",
        "            True or False whether function is (strictly) quasiconvex on given \n",
        "            interval or not\n",
        "    \"\"\"\n",
        "    # check if the function can be represented as a*f(x) with a is positive real \n",
        "    # number, then check the quasiconvexity of f(x) \n",
        "    if f.func == sp.core.mul.Mul:\n",
        "        for arg in f.args:\n",
        "            if str(arg.func)[19:26] == 'numbers' and float(arg) > 0:\n",
        "                return is_quasiconvex_by_preserving_ops(f / arg, interval, strict)\n",
        "    # check if the function is a max function and then check the quasiconvexity \n",
        "    # of all arguments\n",
        "    if f.func == sp.Max:\n",
        "        all_quasiconvex = True\n",
        "        for arg in f.args:\n",
        "            all_quasiconvex = is_quasiconvex_by_preserving_ops(arg, interval, strict)\n",
        "            if not all_quasiconvex:\n",
        "                break\n",
        "        if all_quasiconvex:\n",
        "            return True\n",
        "    # check if the function is a min function and then check the quasiconcavity \n",
        "    # of all arguments\n",
        "    if f.func == sp.Min:\n",
        "        all_quasiconcave = True\n",
        "        for arg in f.args:\n",
        "            all_quasiconcave = is_quasiconvex_by_preserving_ops(-arg, interval, strict)\n",
        "            if not all_quasiconcave:\n",
        "                break\n",
        "        if all_quasiconcave:\n",
        "            return True\n",
        "    return is_quasiconvex(f, interval, strict)\n"
      ],
      "metadata": {
        "id": "9JcALQ_1wZox"
      },
      "execution_count": 6,
      "outputs": []
    },
    {
      "cell_type": "code",
      "source": [
        "x = sp.symbols('x')\n",
        "assert(is_quasiconvex_by_preserving_ops(sp.Max(2 * x**3, x**2 + 2 * x), sp.Interval(-2, 1)) == True)"
      ],
      "metadata": {
        "id": "HEY39J_s_Pb9"
      },
      "execution_count": 8,
      "outputs": []
    },
    {
      "cell_type": "markdown",
      "source": [
        "##Использование композиции с элементарными функциями\n",
        "\n",
        "Еще одна операция, сохраняющая квазивыпуклость - это композиция. Имеем следующие свойства:\n",
        "\n",
        "- Если $g(x)$ – квазивыпуклая на $[a, b]$, $f(x)$ – (возрастающая) неубывающая на $[a, b]$, то функция $f(g(x))$ является квазивыпуклой на $[a, b]$.\n",
        "- Если $g(x)$ – квазивыпуклая на $[a, b]$, $f(x)$ – (убывающая) не возрастающая на $[a, b]$, то функция $f(g(x))$ является квазивогнутой на $[a, b]$.\n",
        "- Если $g(x)$ – квазивогнутая на $[a, b]$, $f(x)$ – (возрастающая) неубывающая на $[a, b]$, то функция $f(g(x))$ является квазивогнутой на $[a, b]$.\n",
        "- Если $g(x)$ – квазивогнутая на $[a, b]$, $f(x)$ – (убывающая) не возрастающая на $[a, b]$, то функция $f(g(x))$ является квазивыпуклой на $[a, b]$.\n",
        "- Если $g(x)$ – (возрастающая) неубывающая на $[a, b]$, $f(x)$ – квазивыпуклая на $[a, b]$, то функция $f(g(x))$ является квазивыпуклой на $[a, b]$.\n",
        "- Если $g(x)$ – (убывающая) не возрастающая на $[a, b]$, $f(x)$ – квазивогнутая на $[a, b]$, то функция $f(g(x))$ является квазивогнутой на $[a, b]$.\n",
        "\n"
      ],
      "metadata": {
        "id": "IKXjCTPRCZZb"
      }
    },
    {
      "cell_type": "markdown",
      "source": [
        "Будем проверять, является ли функция $f(x)$ элементарной функцией и проверяем, является ли она монотонной или квазивыпуклой и также проверяем $g(x)$. Добавим композицию с элементарными функциями к уже имеющемуся коду. Также, в библиотеке `sympy` отдельным классом являются степенные и показательные функции. Будем отдельно проверять, является ли функция $const^{f(x)}$."
      ],
      "metadata": {
        "id": "f9BUtEjygYW3"
      }
    },
    {
      "cell_type": "code",
      "source": [
        "def is_quasiconvex_by_composition(f: sp.core.expr, interval: sp.Interval=sp.Reals, strict=False):\n",
        "    \"\"\"\n",
        "        Input\n",
        "            f: sp.core.expr -- an expression of single-variable function\n",
        "            interval: sp.Interval -- an interval to check quasiconvexity on.\n",
        "            Default interval is all Real numbers\n",
        "            strict -- condition that shows should we check strict quasiconvexity\n",
        "            or not. Default False \n",
        "        Returns\n",
        "            True or False whether function is (strictly) quasiconvex on given \n",
        "            interval or not\n",
        "    \"\"\"\n",
        "    # check if the function can be represented as a*f(x) with a is positive real \n",
        "    # number, then check the quasiconvexity of f(x) \n",
        "    if f.func == sp.core.mul.Mul:\n",
        "        for arg in f.args:\n",
        "            if str(arg.func)[19:26] == 'numbers' and float(arg) > 0:\n",
        "                return is_quasiconvex_by_composition(f / arg, interval, strict)\n",
        "    # check if the function is a max function and then check the quasiconvexity \n",
        "    # of all arguments\n",
        "    if f.func == sp.Max:\n",
        "        all_quasiconvex = True\n",
        "        for arg in f.args:\n",
        "            all_quasiconvex = is_quasiconvex_by_composition(arg, interval, strict)\n",
        "            if not all_quasiconvex:\n",
        "                break\n",
        "        if all_quasiconvex:\n",
        "            return True\n",
        "    # check if the function is a min function and then check the quasiconcavity \n",
        "    # of all arguments\n",
        "    if f.func == sp.Min:\n",
        "        all_quasiconcave = True\n",
        "        for arg in f.args:\n",
        "            all_quasiconcave = is_quasiconvex_by_composition(-arg, interval, strict)\n",
        "            if not all_quasiconcave:\n",
        "                break\n",
        "        if all_quasiconcave:\n",
        "            return True\n",
        "    # check if function can be represented as a^f(x) where a is a real number, \n",
        "    # then check the quasiconvexity of f(x)\n",
        "    if f.func == sp.core.power.Pow:\n",
        "        if str(f.args[0].func)[19:26] == 'numbers':\n",
        "            return is_quasiconvex_by_composition(f.args[1], interval, strict)\n",
        "    # check if function can be represented as g(f(x)) where g(x) is an elementary, \n",
        "    # then check the quasiconvexity and monotonicity of g(x) and f(x)\n",
        "    if str(type(f.func))[24:34] == 'elementary' or type(f.func) == sp.core.function.FunctionClass:\n",
        "        if sp.is_increasing(f.func, interval):\n",
        "            return is_quasiconvex_by_composition(f.args[0], interval)\n",
        "        if sp.is_decreasing(f.func, interval):\n",
        "            return is_quasiconvex_by_composition(-f.args[0], interval)\n",
        "        if is_quasiconvex(f.func, interval):\n",
        "            return f.args[0].is_increasing(interval) or f.args[0].is_decreasing(interval)\n",
        "    return is_quasiconvex(f, interval, strict)"
      ],
      "metadata": {
        "id": "RDou214jhZPG"
      },
      "execution_count": 7,
      "outputs": []
    },
    {
      "cell_type": "code",
      "source": [
        "x = sp.symbols('x')\n",
        "assert(is_quasiconvex_by_composition(sp.exp(sp.Max(2 * x**3, x**2 + 2 * x)), sp.Interval(-2, 1)) == True)"
      ],
      "metadata": {
        "id": "HHtuO3X6BkIT"
      },
      "execution_count": 10,
      "outputs": []
    },
    {
      "cell_type": "markdown",
      "source": [
        "##Использование композиции с многочленами\n",
        "\n",
        "Помимо композиции с элементарными функциями, можно проверить, является ли функция многочленом от другой функции. Для этого напишем несколько вспомогательных функций.\n",
        "\n",
        "`is_polynom` - функция, проверяющая, является ли выражение многочленом от другого выражения. Аргументы `sp.poly` - список множителей одночленов. Если выражение является многочленом от выражения, то множители для всех слагаемых должны совпадать. Значит мы можем перемножить все аргументы, и подставить вместо этого произведения $x$. Тогда если мы получим многочлен от $x$, то все в порядке."
      ],
      "metadata": {
        "id": "JjQoLfR3mQ0o"
      }
    },
    {
      "cell_type": "code",
      "source": [
        "def is_polynom(f: sp.core.expr):\n",
        "    \"\"\"\n",
        "        Input\n",
        "            f: sp.core.expr -- an expression of single-variable function\n",
        "        Returns\n",
        "            True or False whether function is polynom of some other expression \n",
        "    \"\"\"\n",
        "    expr_poly = sp.Poly(f)\n",
        "    expr_arg = np.prod(expr_poly.args[1::])\n",
        "    poly_copy = sp.Poly(expr_poly.subs(expr_arg, x))\n",
        "    return len(poly_copy.args) == 2 and poly_copy.args[1] == x"
      ],
      "metadata": {
        "id": "PMKJbnP5n8v2"
      },
      "execution_count": 8,
      "outputs": []
    },
    {
      "cell_type": "code",
      "source": [
        "expr = sp.Poly((sp.log(x) / sp.exp(sp.sin(x**2 + 1))) ** 4 + 2 * (sp.log(x) / sp.exp(sp.sin(x**2 + 1))) ** 2 + (sp.log(x) / sp.exp(sp.sin(x**2 + 1))))\n",
        "assert is_polynom(expr) == True"
      ],
      "metadata": {
        "id": "pUlqO5nHoZPo"
      },
      "execution_count": 12,
      "outputs": []
    },
    {
      "cell_type": "markdown",
      "source": [
        "Также напишем функци `get_poly_expr` и `get_poly_arg`, которые из многочлена $f(g(x))$ получают выражения $f(x)$ и $g(x)$ соответственно."
      ],
      "metadata": {
        "id": "wPgZEBh0qWvE"
      }
    },
    {
      "cell_type": "code",
      "source": [
        "def get_poly_expr(f: sp.core.expr):\n",
        "    \"\"\"\n",
        "        Input\n",
        "            f: sp.core.expr -- a polynom f(g(x)) of some expression\n",
        "        Returns\n",
        "            f(x) -- polynom of x\n",
        "    \"\"\"\n",
        "    expr_arg = get_poly_arg(f)\n",
        "    return f.subs(expr_arg, x)\n",
        "\n",
        "def get_poly_arg(f: sp.core.expr):\n",
        "    \"\"\"\n",
        "        Input\n",
        "            f: sp.core.expr -- a polynom f(g(x)) of some expression\n",
        "        Returns\n",
        "            g(x) -- expression of x\n",
        "    \"\"\"\n",
        "    expr_poly = sp.Poly(f)\n",
        "    expr_arg = np.prod(expr_poly.args[1::])\n",
        "    return expr_arg"
      ],
      "metadata": {
        "id": "yofzq8zlqwko"
      },
      "execution_count": 9,
      "outputs": []
    },
    {
      "cell_type": "code",
      "source": [
        "expr = sp.Poly((sp.log(x) / sp.exp(sp.sin(x**2 + 1))) ** 4 + 2 * (sp.log(x) / sp.exp(sp.sin(x**2 + 1))) ** 2 + (sp.log(x) / sp.exp(sp.sin(x**2 + 1))))\n",
        "get_poly_arg(expr)"
      ],
      "metadata": {
        "colab": {
          "base_uri": "https://localhost:8080/",
          "height": 43
        },
        "id": "3n-bDZtarQNB",
        "outputId": "74c8590c-c9c7-4d80-ea34-387fa520267a"
      },
      "execution_count": 14,
      "outputs": [
        {
          "output_type": "execute_result",
          "data": {
            "text/plain": [
              "exp(-sin(x**2 + 1))*log(x)"
            ],
            "text/latex": "$\\displaystyle e^{- \\sin{\\left(x^{2} + 1 \\right)}} \\log{\\left(x \\right)}$"
          },
          "metadata": {},
          "execution_count": 14
        }
      ]
    },
    {
      "cell_type": "code",
      "source": [
        "get_poly_expr(expr)"
      ],
      "metadata": {
        "colab": {
          "base_uri": "https://localhost:8080/",
          "height": 39
        },
        "id": "vN8CiljyrdWH",
        "outputId": "7b39a6c4-381b-462d-d137-cb9698efe931"
      },
      "execution_count": 15,
      "outputs": [
        {
          "output_type": "execute_result",
          "data": {
            "text/plain": [
              "x**4 + 2*x**2 + x"
            ],
            "text/latex": "$\\displaystyle x^{4} + 2 x^{2} + x$"
          },
          "metadata": {},
          "execution_count": 15
        }
      ]
    },
    {
      "cell_type": "markdown",
      "source": [
        "##Использование композиции с дробно-рациональной функцией\n",
        "\n",
        "Проверим является ли функция композицией с дробно-рациональной функцией. Для этого напишем функцию `is_rational`, которая сначала получает числитель и знаменатель дроби, и проверяет, являются ли они многочленами от одного и того же выражения, используя функцию `get_poly_arg`. "
      ],
      "metadata": {
        "id": "3SshOiuhriOw"
      }
    },
    {
      "cell_type": "code",
      "source": [
        "def is_rational(f: sp.core.expr):\n",
        "    \"\"\"\n",
        "        Input\n",
        "            f: sp.core.expr -- a rational function f(g(x)) of some expression\n",
        "        Returns\n",
        "            True or False whether function is rational function of some \n",
        "            other expression\n",
        "    \"\"\"\n",
        "    num, den = 1, 1\n",
        "    for arg in f.args:\n",
        "        # iterate over args and construct numerator from multipliers with positive power\n",
        "        # and denomenator from multipliers with negative power\n",
        "        if arg.func == sp.core.power.Pow:\n",
        "            if str(arg.args[-1].func)[19:26] == 'numbers' and float(arg.args[-1]) < 0:\n",
        "                den *= 1 / arg\n",
        "            else:\n",
        "                num *= arg\n",
        "        else:\n",
        "            num *= arg\n",
        "    if den == 1:\n",
        "        return False\n",
        "    # check if num and denom are polynoms of one argument\n",
        "    num_arg = np.prod(sp.Poly(num).args[1::])\n",
        "    den_arg = np.prod(sp.Poly(den).args[1::])\n",
        "    return num_arg == den_arg"
      ],
      "metadata": {
        "id": "u9bcRiXJsv6j"
      },
      "execution_count": 10,
      "outputs": []
    },
    {
      "cell_type": "code",
      "source": [
        "\n",
        "expr = ((sp.log(x) / sp.exp(sp.sin(x**2 + 1))) ** 4) / ((sp.log(x) / sp.exp(sp.sin(x**2 + 1))) + 1)\n",
        "print(expr)\n",
        "assert is_rational(expr) == True"
      ],
      "metadata": {
        "colab": {
          "base_uri": "https://localhost:8080/"
        },
        "id": "UzRPYzfltJiv",
        "outputId": "aac3b30c-7844-4fca-feac-0e73b473628e"
      },
      "execution_count": 17,
      "outputs": [
        {
          "output_type": "stream",
          "name": "stdout",
          "text": [
            "exp(-4*sin(x**2 + 1))*log(x)**4/(1 + exp(-sin(x**2 + 1))*log(x))\n"
          ]
        }
      ]
    },
    {
      "cell_type": "markdown",
      "source": [
        "Добавим функции `get_rational_expr` и `get_rational_arg` которые работают аналогично соответствующим функциям для многочленов."
      ],
      "metadata": {
        "id": "XFWPFSVyteZc"
      }
    },
    {
      "cell_type": "code",
      "source": [
        "def get_rational_expr(f: sp.core.expr):\n",
        "    \"\"\"\n",
        "        Input\n",
        "            f: sp.core.expr -- a rational function f(g(x)) of some expression\n",
        "        Returns\n",
        "            f(x) -- rational function of x\n",
        "    \"\"\"\n",
        "    rational_arg = get_rational_arg(f)\n",
        "    return f.subs(rational_arg, x)\n",
        "\n",
        "def get_rational_arg(f: sp.core.expr):\n",
        "    \"\"\"\n",
        "        Input\n",
        "            f: sp.core.expr -- a rational function f(g(x)) of some expression\n",
        "        Returns\n",
        "            g(x) -- expression of x\n",
        "    \"\"\"\n",
        "    den = 1\n",
        "    for arg in f.args:\n",
        "        if arg.func == sp.core.power.Pow and arg.args[-1] < 0:\n",
        "            den *= 1 / arg\n",
        "    return np.prod(sp.Poly(den).args[1::])"
      ],
      "metadata": {
        "id": "DOFcB8B9tyMm"
      },
      "execution_count": 11,
      "outputs": []
    },
    {
      "cell_type": "code",
      "source": [
        "expr = ((sp.log(x) / sp.exp(sp.sin(x**2 + 1))) ** 4) / ((sp.log(x) / sp.exp(sp.sin(x**2 + 1))) + 1)\n",
        "get_rational_arg(expr)"
      ],
      "metadata": {
        "colab": {
          "base_uri": "https://localhost:8080/",
          "height": 43
        },
        "id": "zynLq1qwuJvB",
        "outputId": "b3bb62e5-4ea5-4059-9a32-cc46b340d42c"
      },
      "execution_count": 19,
      "outputs": [
        {
          "output_type": "execute_result",
          "data": {
            "text/plain": [
              "exp(-sin(x**2 + 1))*log(x)"
            ],
            "text/latex": "$\\displaystyle e^{- \\sin{\\left(x^{2} + 1 \\right)}} \\log{\\left(x \\right)}$"
          },
          "metadata": {},
          "execution_count": 19
        }
      ]
    },
    {
      "cell_type": "code",
      "source": [
        "get_rational_expr(expr)"
      ],
      "metadata": {
        "colab": {
          "base_uri": "https://localhost:8080/",
          "height": 55
        },
        "id": "f9q_RlTfuQCJ",
        "outputId": "1d119c56-7425-4ce7-f2a8-f4b9f5fc0092"
      },
      "execution_count": 20,
      "outputs": [
        {
          "output_type": "execute_result",
          "data": {
            "text/plain": [
              "x**4/(x + 1)"
            ],
            "text/latex": "$\\displaystyle \\frac{x^{4}}{x + 1}$"
          },
          "metadata": {},
          "execution_count": 20
        }
      ]
    },
    {
      "cell_type": "markdown",
      "source": [
        "##Итоговая программа\n",
        "\n",
        "Существует множество других возможных композиций функций, например $\\dfrac{e^{x^2+x}}{\\cos{(x^2+x)}}$, однако в общем случае их практически невозможно определить, и в таких случаях придется воспользоваться монотонностью, выпуклостью или определением. Учитывая все оптимизации выше получим итоговую функцию `deduct_quasiconvexity`, также напишем аналогичную функцию `deduct_quasiconcavity`:"
      ],
      "metadata": {
        "id": "_8bBVKrCuUUi"
      }
    },
    {
      "cell_type": "code",
      "source": [
        "def deduct_quasiconvexity(f: sp.core.expr, interval: sp.Interval=sp.Reals, strict=False):\n",
        "    \"\"\"\n",
        "        Input\n",
        "            f: sp.core.expr -- an expression of single-variable function\n",
        "            interval: sp.Interval -- an interval to check quasiconvexity on.\n",
        "            Default interval is all Real numbers\n",
        "            strict -- condition that shows should we check strict quasiconvexity\n",
        "            or not. Default False \n",
        "        Returns\n",
        "            True or False whether function is (strictly) quasiconvex on given \n",
        "            interval or not\n",
        "    \"\"\"\n",
        "    # check if the function can be represented as a*f(x) with a is positive real \n",
        "    # number, then check the quasiconvexity of f(x), or if a is negative, check \n",
        "    # quasiconcavity\n",
        "    if f.func == sp.core.mul.Mul:\n",
        "        for arg in f.args:\n",
        "            if str(arg.func)[19:26] == 'numbers':\n",
        "                if float(arg) > 0:\n",
        "                    return deduct_quasiconvexity(f / arg, interval, strict)\n",
        "                elif float(arg) < 0:\n",
        "                    return deduct_quasiconcavity(f / arg, interval, strict)\n",
        "    # check if the function is a max function and then check the quasiconvexity \n",
        "    # of all arguments\n",
        "    if f.func == sp.Max:\n",
        "        all_quasiconvex = True\n",
        "        for arg in f.args:\n",
        "            all_quasiconvex = deduct_quasiconvexity(arg, interval, strict)\n",
        "            if not all_quasiconvex:\n",
        "                break\n",
        "        if all_quasiconvex:\n",
        "            return True\n",
        "    # check if the function is a min function and then check the quasiconcavity \n",
        "    # of all arguments\n",
        "    if f.func == sp.Min:\n",
        "        all_quasiconcave = True\n",
        "        for arg in f.args:\n",
        "            all_quasiconcave = deduct_quasiconcavity(arg, interval, strict)\n",
        "            if not all_quasiconcave:\n",
        "                break\n",
        "        if all_quasiconcave:\n",
        "            return True\n",
        "    # check if function can be represented as g(f(x)) where g(x) is an elementary, \n",
        "    # then check the quasiconvexity and monotonicity of g(x) and f(x)\n",
        "    if str(type(f.func))[24:34] == 'elementary' or type(f.func) == sp.core.function.FunctionClass:\n",
        "        if sp.is_increasing(f.func, interval):\n",
        "            return deduct_quasiconvexity(f.args[0], interval)\n",
        "        if sp.is_decreasing(f.func, interval):\n",
        "            return deduct_quasiconcavity(f.args[0], interval)\n",
        "        if is_quasiconvex(f.func, interval):\n",
        "            return sp.is_increasing(f.args[0], interval) or sp.is_decreasing(f.args[0], interval)\n",
        "    # check if function can be represented as a^f(x) where a is a real number, \n",
        "    # then check the quasiconvexity of f(x)\n",
        "    if f.func == sp.core.power.Pow:\n",
        "        if str(f.args[0].func)[19:26] == 'numbers':\n",
        "            return deduct_quasiconvexity(f.args[1], interval, strict)\n",
        "    # check if function can be represented as g(f(x)) where g(x) is a polynom, \n",
        "    # then check the quasiconvexity and monotonicity of g(x) and f(x)\n",
        "    if is_polynom(f):\n",
        "        expr_arg = get_poly_arg(f)\n",
        "        expr_poly = get_poly_expr(f)\n",
        "        if expr_arg == x:\n",
        "            return is_quasiconvex(expr_poly, interval)\n",
        "        if sp.Poly(expr_poly).degree() > 1:\n",
        "            if sp.is_increasing(expr_poly, interval):\n",
        "                return deduct_quasiconvexity(expr_arg, interval)\n",
        "            if sp.is_decreasing(expr_poly, interval):\n",
        "                return deduct_quasiconcavity(expr_arg, interval)\n",
        "            if is_quasiconvex(expr_poly, interval):\n",
        "                return sp.is_increasing(expr_arg, interval) or sp.is_decreasing(expr_arg, interval)\n",
        "    # check if function can be represented as g(f(x)) where g(x) is a rational function, \n",
        "    # then check the quasiconvexity and monotonicity of g(x) and f(x)\n",
        "    if is_rational(f):\n",
        "        expr_arg = get_rational_arg(f)\n",
        "        expr_rat = get_rational_expr(f)\n",
        "        if expr_arg == x:\n",
        "            return is_quasiconvex(expr_rat, interval)\n",
        "        if sp.is_increasing(expr_rat, interval):\n",
        "            return deduct_quasiconvexity(expr_arg, interval)\n",
        "        if sp.is_decreasing(expr_rat, interval):\n",
        "            return deduct_quasiconcavity(expr_arg, interval)\n",
        "        if is_quasiconvex(expr_rat, interval):\n",
        "            return sp.is_increasing(expr_arg, interval) or sp.is_decreasing(expr_arg, interval)\n",
        "    return is_quasiconvex(f, interval, strict)"
      ],
      "metadata": {
        "id": "w0hempGx23NK"
      },
      "execution_count": 12,
      "outputs": []
    },
    {
      "cell_type": "code",
      "source": [
        "def deduct_quasiconcavity(f: sp.core.expr, interval: sp.Interval=sp.Reals, strict=False):\n",
        "    \"\"\"\n",
        "        Input\n",
        "            f: sp.core.expr -- an expression of single-variable function\n",
        "            interval: sp.Interval -- an interval to check quasiconcavity on.\n",
        "            Default interval is all Real numbers\n",
        "            strict -- condition that shows should we check strict quasiconcavity\n",
        "            or not. Default False \n",
        "        Returns\n",
        "            True or False whether function is (strictly) quasiconcave on given \n",
        "            interval or not\n",
        "    \"\"\"\n",
        "    if f.func == sp.core.mul.Mul:\n",
        "        for arg in f.args:\n",
        "            if str(arg.func)[19:26] == 'numbers':\n",
        "                if float(arg) > 0:\n",
        "                    return deduct_quasiconcavity(f / arg, interval, strict)\n",
        "                elif float(arg) < 0:\n",
        "                    return deduct_quasiconvexity(f / arg, interval, strict)\n",
        "    if f.func == sp.Max:\n",
        "        all_quasiconvex = True\n",
        "        for arg in f.args:\n",
        "            all_quasiconvex = deduct_quasiconvexity(arg, interval, strict)\n",
        "            if not all_quasiconvex:\n",
        "                break\n",
        "        if all_quasiconvex:\n",
        "            return True\n",
        "    if f.func == sp.Min:\n",
        "        all_quasiconcave = True\n",
        "        for arg in f.args:\n",
        "            all_quasiconcave = deduct_quasiconcavity(arg, interval, strict)\n",
        "            if not all_quasiconcave:\n",
        "                break\n",
        "        if all_quasiconcave:\n",
        "            return True\n",
        "    if str(type(f.func))[24:34] == 'elementary' or type(f.func) == sp.core.function.FunctionClass:\n",
        "        if sp.is_increasing(f.func, interval):\n",
        "            return deduct_quasiconcavity(f.args[0], interval)\n",
        "        if sp.is_decreasing(f.func, interval):\n",
        "            return deduct_quasiconvexity(f.args[0], interval)\n",
        "        if is_quasiconvex(-f.func, interval):\n",
        "            return sp.is_increasing(f.args[0], interval) or sp.is_decreasing(f.args[0], interval)\n",
        "    if f.func == sp.core.power.Pow:\n",
        "        if str(f.args[0].func)[19:26] == 'numbers':\n",
        "            return deduct_quasiconcavity(f.args[1], interval, strict)\n",
        "    if is_polynom(f):\n",
        "        expr_arg = get_poly_arg(f)\n",
        "        expr_poly = get_poly_expr(f)\n",
        "        if expr_arg == x:\n",
        "            return is_quasiconvex(-expr_poly, interval)\n",
        "        if sp.Poly(expr_poly).degree() > 1:\n",
        "            if sp.is_increasing(expr_poly, interval):\n",
        "                return deduct_quasiconcavity(expr_arg, interval)\n",
        "            if sp.is_decreasing(expr_poly, interval):\n",
        "                return deduct_quasiconvexity(expr_arg, interval)\n",
        "            if is_quasiconvex(-expr_poly, interval):\n",
        "                return sp.is_increasing(expr_arg, interval) or sp.is_decreasing(expr_arg, interval)\n",
        "    if is_rational(f):\n",
        "        expr_arg = get_rational_arg(f)\n",
        "        expr_rat = get_rational_expr(f)\n",
        "        if expr_arg == x:\n",
        "            return is_quasiconvex(-expr_rat, interval)\n",
        "        if sp.is_increasing(expr_rat, interval):\n",
        "            return deduct_quasiconcavity(expr_arg, interval)\n",
        "        if sp.is_decreasing(expr_rat, interval):\n",
        "            return deduct_quasiconvexity(expr_arg, interval)\n",
        "        if is_quasiconvex(-expr_rat, interval):\n",
        "            return sp.is_increasing(expr_arg, interval) or sp.is_decreasing(expr_arg, interval)\n",
        "    return is_quasiconvex(-f, interval, strict)"
      ],
      "metadata": {
        "id": "_9L6Eft_JT7y"
      },
      "execution_count": 13,
      "outputs": []
    },
    {
      "cell_type": "markdown",
      "source": [
        "##Применение в задаче глобальной оптимизации\n",
        "\n",
        "Применим полученный алгоритм в задаче глобальной оптимизации - напишем функцию, которая по выражению функции вычисляет ее границы, используя свойство квазивыпуклости или квазивогнутости. Результат будем выводить в виде `sympy.Interval` и проведем некоторое количество сравнений с функциями `sympy.minimum` и `sympy.maximum`."
      ],
      "metadata": {
        "id": "mU60ycefGagi"
      }
    },
    {
      "cell_type": "code",
      "source": [
        "def get_bounds(f: sp.core.expr, interval: sp.Interval=sp.Reals):\n",
        "    \"\"\"\n",
        "        Input\n",
        "            f: sp.core.expr -- an expression of single-variable function\n",
        "            interval: sp.Interval -- an interval to find max and min on.\n",
        "            Default interval is all Real numbers\n",
        "        Returns\n",
        "            res: sp.Interval -- an interval of function values\n",
        "    \"\"\"\n",
        "    f_min, f_max = None, None\n",
        "    # get values on the edges of interval\n",
        "    a, b = interval.args[0], interval.args[1]\n",
        "    f_a, f_b = f.subs(x, a), f.subs(x, b)\n",
        "    # get f'(a) and f'(b)\n",
        "    f_diff = sp.diff(f, x)\n",
        "    f_diff_a, f_diff_b = f_diff.subs(x, a), f_diff.subs(x, b)\n",
        "    # check quasiconvexity and if true, calculate bounds\n",
        "    if deduct_quasiconvexity(f, interval):\n",
        "        f_max = max(f_a, f_b)\n",
        "        f_min = (f_diff_b * f_a - f_diff_a * f_b) / (f_diff_b - f_diff_a) + f_diff_a * f_diff_b * (b - a) / (f_diff_b - f_diff_a)\n",
        "    # check quasiconcavity and if true, calculate bounds\n",
        "    if deduct_quasiconcavity(f, interval):\n",
        "        f_min = min(f_a, f_b)\n",
        "        if f_max == None:\n",
        "            f_max = (f_diff_b * f_a - f_diff_a * f_b) / (f_diff_b - f_diff_a) + f_diff_a * f_diff_b * (b - a) / (f_diff_b - f_diff_a)\n",
        "    return sp.Interval(float(f_min), float(f_max))"
      ],
      "metadata": {
        "id": "kqFYz9CVJ1XI"
      },
      "execution_count": 14,
      "outputs": []
    },
    {
      "cell_type": "code",
      "source": [
        "get_bounds(sp.exp(sp.Max(x**3, x**2 + 2 * x)), sp.Interval(-2, 1))"
      ],
      "metadata": {
        "colab": {
          "base_uri": "https://localhost:8080/",
          "height": 37
        },
        "id": "oKiGKCJ2YZQQ",
        "outputId": "952cadc8-c5d5-4095-a67e-733a284c5dcb"
      },
      "execution_count": 25,
      "outputs": [
        {
          "output_type": "execute_result",
          "data": {
            "text/plain": [
              "Interval(1.00000000000000, 20.0855369231877)"
            ],
            "text/latex": "$\\displaystyle \\left[1.0, 20.0855369231877\\right]$"
          },
          "metadata": {},
          "execution_count": 25
        }
      ]
    },
    {
      "cell_type": "markdown",
      "source": [
        "##Тесты и сравнение\n",
        "\n",
        "Проведем сравнение полученной программы с методами библиотеки `sympy`. Рассмотрим 10 квазивыпклых и 10 квазивогнутых функций и найдем среднее время работы нашей программы и методов из библиотеки. Также найдем среднюю погрешность нашего метода."
      ],
      "metadata": {
        "id": "PlsYE_UTcciC"
      }
    },
    {
      "cell_type": "code",
      "source": [
        "x = sp.symbols('x')\n",
        "functions_intervals = [\n",
        "    [sp.exp(sp.Max(x**3, x**2 + 2 * x)), sp.Interval(-2, 1)],\n",
        "    [x**2 + sp.sin(x**2), sp.Interval(0, 2)],\n",
        "    [sp.sin(x)**3 + sp.sin(x), sp.Interval(-1.2, 1.2)],\n",
        "    [sp.sin(x)**3 / (sp.sin(x)**4 + 1), sp.Interval(-1, 1)],\n",
        "    [sp.Min(sp.exp(x), x**5), sp.Interval(0, 2)],\n",
        "    [sp.Min(sp.sqrt(x), x**5), sp.Interval(0, 4)],\n",
        "    [sp.Max(sp.sin(x), x)**3 + sp.Max(sp.sin(x), x), sp.Interval(-4, 0)],\n",
        "    [sp.exp(sp.sin(sp.log(sp.cos(sp.sqrt(x))))), sp.Interval(0.2, 2)],\n",
        "    [sp.asin(x)**6 + 2 * sp.asin(x)**5 - 3 * sp.asin(x)**4 + sp.asin(x)**2 - 1, sp.Interval(0, 1)],\n",
        "    [sp.tanh(x**5), sp.Interval(0, sp.oo)]\n",
        "]"
      ],
      "metadata": {
        "id": "ItMPukpzc_NE"
      },
      "execution_count": 16,
      "outputs": []
    },
    {
      "cell_type": "markdown",
      "source": [
        "Вычислим среднее время работы нашей функции"
      ],
      "metadata": {
        "id": "Sw_yGosWXRPU"
      }
    },
    {
      "cell_type": "code",
      "source": [
        "import time\n",
        "\n",
        "my_times = []\n",
        "\n",
        "res_my = []\n",
        "\n",
        "for i, arr in enumerate(functions_intervals):\n",
        "    start_time = time.time()\n",
        "    res_my.append(get_bounds(*arr))\n",
        "    my_times.append(time.time() - start_time)\n",
        "\n",
        "print('mean time:', np.average(my_times))"
      ],
      "metadata": {
        "colab": {
          "base_uri": "https://localhost:8080/"
        },
        "id": "CAAmYTNCEEOj",
        "outputId": "b921868d-f5b1-42dd-8c0e-b641ecc56778"
      },
      "execution_count": 17,
      "outputs": [
        {
          "output_type": "stream",
          "name": "stdout",
          "text": [
            "mean time: 1.0968151807785034\n"
          ]
        }
      ]
    },
    {
      "cell_type": "markdown",
      "source": [
        "Теперь вычислим среднее время библиотечной функции. Для некоторых функций вычисление границ библиотечным методом занимает крайне много, поэтому я буду использовать декоратор, ограничивающий время выполнения функции, взял [отсюда](https://stackoverflow.com/questions/2281850/timeout-function-if-it-takes-too-long-to-finish). Также для некоторых функций `sympy` просто не умеет находить границы и кидает `NotImplementedError` или `TypeError`. Вычислим среднее время для тех функций, которые не упали с ошибкой. Если для какой-тофункции будет превышен лимит в 1 минуту, внесем в список значение 1 минута. "
      ],
      "metadata": {
        "id": "yXPAuF4dcpWK"
      }
    },
    {
      "cell_type": "code",
      "source": [
        "import errno\n",
        "import os\n",
        "import signal\n",
        "import functools\n",
        "\n",
        "class TimeoutError(Exception):\n",
        "    pass\n",
        "\n",
        "def timeout(seconds=10, error_message=os.strerror(errno.ETIME)):\n",
        "    def decorator(func):\n",
        "        def _handle_timeout(signum, frame):\n",
        "            raise TimeoutError(error_message)\n",
        "\n",
        "        @functools.wraps(func)\n",
        "        def wrapper(*args, **kwargs):\n",
        "            signal.signal(signal.SIGALRM, _handle_timeout)\n",
        "            signal.alarm(seconds)\n",
        "            try:\n",
        "                result = func(*args, **kwargs)\n",
        "            finally:\n",
        "                signal.alarm(0)\n",
        "            return result\n",
        "\n",
        "        return wrapper\n",
        "\n",
        "    return decorator"
      ],
      "metadata": {
        "id": "dYakqSDxfT-U"
      },
      "execution_count": 18,
      "outputs": []
    },
    {
      "cell_type": "code",
      "source": [
        "@timeout(60)\n",
        "def sympy_bounds(f: sp.core.expr, interval: sp.Interval=sp.Reals):\n",
        "    \"\"\"\n",
        "        Input\n",
        "            f: sp.core.expr -- an expression of single-variable function\n",
        "            interval: sp.Interval -- an interval to find max and min on.\n",
        "            Default interval is all Real numbers\n",
        "        Returns\n",
        "            res: sp.Interval -- an interval of function values\n",
        "    \"\"\"\n",
        "    return sp.calculus.util.function_range(f, x, interval)"
      ],
      "metadata": {
        "id": "tXezI66ee1uN"
      },
      "execution_count": 19,
      "outputs": []
    },
    {
      "cell_type": "code",
      "source": [
        "lib_times = []\n",
        "\n",
        "res_lib = []\n",
        "\n",
        "for i, arr in enumerate(functions_intervals):\n",
        "    start_time = time.time()\n",
        "    try:\n",
        "        try:\n",
        "            res_lib.append(sympy_bounds(*arr))\n",
        "        except (NotImplementedError, TypeError):\n",
        "            continue\n",
        "    except (TimeoutError):\n",
        "        pass\n",
        "    lib_times.append(time.time() - start_time)\n",
        "\n",
        "print('mean lib time:', np.average(lib_times))"
      ],
      "metadata": {
        "colab": {
          "base_uri": "https://localhost:8080/"
        },
        "id": "S5yph8gHcoHJ",
        "outputId": "c9763841-5bbb-4461-d70c-b163668c8b04"
      },
      "execution_count": 36,
      "outputs": [
        {
          "output_type": "stream",
          "name": "stdout",
          "text": [
            "mean lib time: 28.553362607955933\n"
          ]
        }
      ]
    },
    {
      "cell_type": "markdown",
      "source": [
        "Точное среднее значение не было вычислено, но уже можно видеть, что наша функция работает в разы эффективнее, а также способна обрабатывать большее каличество функций.\n",
        "\n",
        "Теперь вычислим среднюю погрешность результата, сравнивать будем с вычисленными вручную значениями."
      ],
      "metadata": {
        "id": "FhLBh6HQnvfs"
      }
    },
    {
      "cell_type": "code",
      "source": [
        "bounds = [\n",
        "    [0.368, 20.086],\n",
        "    [0, 3.243],\n",
        "    [-1.742, 1.742],\n",
        "    [-0.397, 0.397],\n",
        "    [0, 7.389], \n",
        "    [0, 2],\n",
        "    [-2, 1.1903],\n",
        "    [0.486, 0.956],\n",
        "    [-1, 17.351],\n",
        "    [0, 1]\n",
        "]\n",
        "\n",
        "delta_sums = []\n",
        "for i in range(10):\n",
        "    f_min, f_max = res_my[i].args[0], res_my[i].args[1]\n",
        "    delta_sums.append(np.abs(float(f_min) - bounds[i][0]))\n",
        "    delta_sums.append(np.abs(float(f_max) - bounds[i][1]))\n",
        "\n",
        "print('mean difference:', np.average(delta_sums))"
      ],
      "metadata": {
        "colab": {
          "base_uri": "https://localhost:8080/"
        },
        "id": "ZYT9wjB2Rp0L",
        "outputId": "f13bc3b9-daf4-4080-d88a-3e0454d102d7"
      },
      "execution_count": 20,
      "outputs": [
        {
          "output_type": "stream",
          "name": "stdout",
          "text": [
            "mean difference: 0.13953365546428512\n"
          ]
        }
      ]
    },
    {
      "cell_type": "markdown",
      "source": [
        "Вычислим среднюю погрешность метода естественного интервального расширения и сравним с нашим методом. Для интервальной арифметики будем испольовать `sympy.plotting.intervalmath`, будем рекурсивно вычислять значение функции от интервала."
      ],
      "metadata": {
        "id": "Qscz1jbsxJS8"
      }
    },
    {
      "cell_type": "code",
      "source": [
        "from sympy.plotting.intervalmath import interval\n",
        "\n",
        "def to_list(inter: interval):\n",
        "    \"\"\"\n",
        "        Input\n",
        "            inter: interval that we need to convert\n",
        "        Returns\n",
        "            res: list -- interval, interpreted as list of 2 values\n",
        "    \"\"\"\n",
        "    res = str(inter).split(',')\n",
        "    res[0] = float(res[0][1:])\n",
        "    res[1] = float(res[1][1:len(res[1]) - 1])\n",
        "    return res\n",
        "\n",
        "def pre(f: sp.core.expr, inter: interval):\n",
        "    \"\"\"\n",
        "        Input\n",
        "            f: sp.core.expr -- expression to count interval expansion\n",
        "            inter: interval\n",
        "        Returns\n",
        "            res: interval -- result of natural interval expansion\n",
        "    \"\"\"\n",
        "    res_int = None\n",
        "    # if we have the \"x\" return the interval\n",
        "    if f.func == sp.core.symbol.Symbol:\n",
        "        return inter\n",
        "    # if we have a constant a return [a, a]\n",
        "    if str(f.func)[19:26] == 'numbers':\n",
        "        return interval(f, f)\n",
        "    # if we have an addition, calculate sum of intervals\n",
        "    if f.func == sp.core.add.Add:\n",
        "        res_int = interval(0, 0)\n",
        "        for arg in f.args:\n",
        "            res_int += pre(arg, inter)\n",
        "    # if we have a multiplication, calculate product of intervals\n",
        "    elif f.func == sp.core.mul.Mul:\n",
        "        res_int = interval(1, 1)\n",
        "        for arg in f.args:\n",
        "            res_int *= pre(arg, inter)\n",
        "    # calculate power of interval\n",
        "    elif f.func == sp.core.power.Pow:\n",
        "        res_int = pre(f.args[0], inter) ** float(f.args[1])\n",
        "    # calculate maximum of intervals\n",
        "    elif f.func == sp.Max:\n",
        "        res_int = max(pre(f.args[0], inter), pre(f.args[1], inter))\n",
        "    # calculate minimum of intervals\n",
        "    elif f.func == sp.Min:\n",
        "        res_int = min(pre(f.args[0], inter), pre(f.args[1], inter))\n",
        "    # calculate f(interval) for an elementary function f\n",
        "    elif str(type(f.func))[24:34] == 'elementary' or type(f.func) == sp.core.function.FunctionClass:\n",
        "        res = to_list(inter)\n",
        "        expr = f.subs(f.args[0], x)\n",
        "        res_int = interval(expr.subs(x, res[0]), expr.subs(x, res[1]))\n",
        "    return res_int\n",
        "\n",
        "interval_res = []\n",
        "for [f, inter] in functions_intervals:\n",
        "    res = to_list(pre(f, interval(inter.args[0], inter.args[1])))\n",
        "    interval_res.append(res)\n",
        "\n",
        "delta_sums_inter = []\n",
        "for i in range(10):\n",
        "    f_min, f_max = interval_res[i][0], interval_res[i][1]\n",
        "    delta_sums_inter.append(np.abs(float(f_min) - bounds[i][0]))\n",
        "    delta_sums_inter.append(np.abs(float(f_max) - bounds[i][1]))\n",
        "\n",
        "print('mean difference:', np.average(delta_sums_inter))"
      ],
      "metadata": {
        "colab": {
          "base_uri": "https://localhost:8080/"
        },
        "id": "VPaEPxfOln-C",
        "outputId": "62d820ed-4b45-433e-c4d8-eb13bbcda3c6"
      },
      "execution_count": 21,
      "outputs": [
        {
          "output_type": "stream",
          "name": "stdout",
          "text": [
            "mean difference: 55.59864845\n"
          ]
        }
      ]
    },
    {
      "cell_type": "markdown",
      "source": [
        "Метод, использующий свойство квазивыпуклости оказался сильно точнее, чем метод естественного интервального расширения."
      ],
      "metadata": {
        "id": "VXnUMlAnymFX"
      }
    },
    {
      "cell_type": "markdown",
      "source": [
        "##Вывод\n",
        "\n",
        "Таким образом, перебрав множество вариантов решений, мы получили алгоритм который проверяет функцию на квазивыпуклость, используя свойства квазивыпуклых функций. С помощью написанной программы мы получили алгоритм нахождения верхней и нижней границ функции на промежутке. Среднее время работы нашей программы сравнительно меньше, чем у библиотечного метода, а также наша программа обрабатывает более широкий класс функций. В сравнении с методом интервального расширения погрешность нашей программы так же оказалась меньше.\n",
        "\n",
        "В итоге получили достаточно эффективную и точную программу, рещающую задачу глобальной оптимизации, с использованием свойства квазивыпуклости функции.\n"
      ],
      "metadata": {
        "id": "6wvLIHkNyxKm"
      }
    }
  ]
}
